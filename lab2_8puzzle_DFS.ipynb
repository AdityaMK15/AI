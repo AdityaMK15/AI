{
  "nbformat": 4,
  "nbformat_minor": 0,
  "metadata": {
    "colab": {
      "provenance": [],
      "authorship_tag": "ABX9TyN2ozU3jYanRCyErjkn7DN7",
      "include_colab_link": true
    },
    "kernelspec": {
      "name": "python3",
      "display_name": "Python 3"
    },
    "language_info": {
      "name": "python"
    }
  },
  "cells": [
    {
      "cell_type": "markdown",
      "metadata": {
        "id": "view-in-github",
        "colab_type": "text"
      },
      "source": [
        "<a href=\"https://colab.research.google.com/github/AdityaMK15/AI/blob/main/lab2_8puzzle_DFS.ipynb\" target=\"_parent\"><img src=\"https://colab.research.google.com/assets/colab-badge.svg\" alt=\"Open In Colab\"/></a>"
      ]
    },
    {
      "cell_type": "code",
      "execution_count": 2,
      "metadata": {
        "colab": {
          "base_uri": "https://localhost:8080/"
        },
        "id": "ssaS_KEBcQ05",
        "outputId": "b00262fa-8a9a-408a-f670-6664a2dc6b7c"
      },
      "outputs": [
        {
          "output_type": "stream",
          "name": "stdout",
          "text": [
            "Solution found with moves: 19992\n",
            "Final board state: [1, 2, 3, 4, 5, 6, 7, 8, 0]\n"
          ]
        }
      ],
      "source": [
        "class PuzzleState:\n",
        "    def __init__(self, board, empty_tile_pos, moves=0):\n",
        "        self.board = board\n",
        "        self.empty_tile_pos = empty_tile_pos\n",
        "        self.moves = moves\n",
        "\n",
        "    def is_goal(self):\n",
        "        goal_state = [1, 2, 3, 4, 5, 6, 7, 8, 0]\n",
        "        return self.board == goal_state\n",
        "\n",
        "    def get_possible_moves(self):\n",
        "        row, col = self.empty_tile_pos\n",
        "        possible_moves = []\n",
        "\n",
        "\n",
        "        directions = [(-1, 0), (1, 0), (0, -1), (0, 1)]\n",
        "        for dr, dc in directions:\n",
        "            new_row, new_col = row + dr, col + dc\n",
        "            if 0 <= new_row < 3 and 0 <= new_col < 3:\n",
        "                possible_moves.append((new_row, new_col))\n",
        "\n",
        "        return possible_moves\n",
        "\n",
        "    def make_move(self, new_empty_tile_pos):\n",
        "        new_board = self.board[:]\n",
        "        row, col = self.empty_tile_pos\n",
        "        new_row, new_col = new_empty_tile_pos\n",
        "\n",
        "        new_board[row * 3 + col], new_board[new_row * 3 + new_col] = new_board[new_row * 3 + new_col], new_board[row * 3 + col]\n",
        "        return PuzzleState(new_board, new_empty_tile_pos, self.moves + 1)\n",
        "\n",
        "def depth_first_search(initial_state):\n",
        "    stack = [initial_state]\n",
        "    visited = set()\n",
        "\n",
        "    while stack:\n",
        "        state = stack.pop()\n",
        "\n",
        "        if state.is_goal():\n",
        "            return state\n",
        "\n",
        "        visited.add(tuple(state.board))\n",
        "\n",
        "        for new_empty_tile_pos in state.get_possible_moves():\n",
        "            new_state = state.make_move(new_empty_tile_pos)\n",
        "            if tuple(new_state.board) not in visited:\n",
        "                stack.append(new_state)\n",
        "\n",
        "    return None\n",
        "\n",
        "if __name__ == \"__main__\":\n",
        "    initial_board = [1, 2, 3, 4, 0, 5, 6, 7, 8]\n",
        "    empty_tile_pos = (1, 1)\n",
        "    initial_state = PuzzleState(initial_board, empty_tile_pos)\n",
        "\n",
        "    solution = depth_first_search(initial_state)\n",
        "    if solution:\n",
        "        print(\"Solution found with moves:\", solution.moves)\n",
        "        print(\"Final board state:\", solution.board)\n",
        "    else:\n",
        "        print(\"No solution found.\")"
      ]
    }
  ]
}