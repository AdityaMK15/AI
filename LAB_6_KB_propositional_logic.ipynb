{
  "nbformat": 4,
  "nbformat_minor": 0,
  "metadata": {
    "colab": {
      "provenance": [],
      "authorship_tag": "ABX9TyP8mlPlCmFceROvBnld0IIj",
      "include_colab_link": true
    },
    "kernelspec": {
      "name": "python3",
      "display_name": "Python 3"
    },
    "language_info": {
      "name": "python"
    }
  },
  "cells": [
    {
      "cell_type": "markdown",
      "metadata": {
        "id": "view-in-github",
        "colab_type": "text"
      },
      "source": [
        "<a href=\"https://colab.research.google.com/github/AdityaMK15/AI/blob/main/LAB_6_KB_propositional_logic.ipynb\" target=\"_parent\"><img src=\"https://colab.research.google.com/assets/colab-badge.svg\" alt=\"Open In Colab\"/></a>"
      ]
    },
    {
      "cell_type": "code",
      "execution_count": 12,
      "metadata": {
        "colab": {
          "base_uri": "https://localhost:8080/"
        },
        "id": "DTbv1mcmm_a1",
        "outputId": "88937abd-f8bd-43d6-9882-784f39d3c63d"
      },
      "outputs": [
        {
          "output_type": "stream",
          "name": "stdout",
          "text": [
            "Q    P    R    Q -> P    P -> ¬Q   Q ∪ R     R    R -> P    Q -> R    \n",
            "------------------------------------------------------------\n",
            "True True True True      False     True      True True      True      \n",
            "True True FalseTrue      False     True      FalseTrue      False     \n",
            "True FalseTrue False     True      True      True False     True      \n",
            "True FalseFalseFalse     True      True      FalseTrue      False     \n",
            "FalseTrue True True      True      True      True True      True      \n",
            "\n",
            "KB is true: Q -> P, P -> ¬Q, Q ∪ R\n",
            "KB entails R: True\n",
            "KB entails R -> P: True\n",
            "KB entails Q -> R: True\n",
            "------------------------------------------------------------\n",
            "FalseTrue FalseTrue      True      False     FalseTrue      True      \n",
            "FalseFalseTrue True      True      True      True False     True      \n",
            "\n",
            "KB is true: Q -> P, P -> ¬Q, Q ∪ R\n",
            "KB entails R: True\n",
            "KB entails R -> P: False\n",
            "KB entails Q -> R: True\n",
            "------------------------------------------------------------\n",
            "FalseFalseFalseTrue      True      False     FalseTrue      True      \n"
          ]
        }
      ],
      "source": [
        "import itertools\n",
        "\n",
        "def evaluate_logic(q, p, r):\n",
        "    implies_qp = (not q or p)\n",
        "    implies_pq_neg = (not p or not q)\n",
        "    union_qr = (q or r)\n",
        "\n",
        "    r_value = r\n",
        "    implies_rp = (not r or p)\n",
        "    implies_qr = (not q or r)\n",
        "\n",
        "    return implies_qp, implies_pq_neg, union_qr, r_value, implies_rp, implies_qr\n",
        "\n",
        "def print_truth_table():\n",
        "    truth_values = [True, False]\n",
        "\n",
        "    print(f\"{'Q':<5}{'P':<5}{'R':<5}{'Q -> P':<10}{'P -> ¬Q':<10}{'Q ∪ R':<10}{'R':<5}{'R -> P':<10}{'Q -> R':<10}\")\n",
        "    print(\"-\" * 60)\n",
        "\n",
        "    for q, p, r in itertools.product(truth_values, repeat=3):\n",
        "        implies_qp, implies_pq_neg, union_qr, r_value, implies_rp, implies_qr = evaluate_logic(q, p, r)\n",
        "\n",
        "        print(f\"{str(q):<5}{str(p):<5}{str(r):<5}{str(implies_qp):<10}{str(implies_pq_neg):<10}{str(union_qr):<10}{str(r_value):<5}{str(implies_rp):<10}{str(implies_qr):<10}\")\n",
        "\n",
        "        if implies_qp and implies_pq_neg and union_qr:\n",
        "            print(f\"\\nKB is true: Q -> P, P -> ¬Q, Q ∪ R\")\n",
        "            print(f\"KB entails R: {r_value}\")\n",
        "            print(f\"KB entails R -> P: {implies_rp}\")\n",
        "            print(f\"KB entails Q -> R: {implies_qr}\")\n",
        "            print(\"-\" * 60)\n",
        "\n",
        "def main():\n",
        "    print_truth_table()\n",
        "\n",
        "main()\n"
      ]
    }
  ]
}