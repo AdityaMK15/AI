{
  "nbformat": 4,
  "nbformat_minor": 0,
  "metadata": {
    "colab": {
      "provenance": [],
      "authorship_tag": "ABX9TyPM+RdcjWB4BGIRBEncuYTz",
      "include_colab_link": true
    },
    "kernelspec": {
      "name": "python3",
      "display_name": "Python 3"
    },
    "language_info": {
      "name": "python"
    }
  },
  "cells": [
    {
      "cell_type": "markdown",
      "metadata": {
        "id": "view-in-github",
        "colab_type": "text"
      },
      "source": [
        "<a href=\"https://colab.research.google.com/github/AdityaMK15/AI/blob/main/lab1_tictactoe_.ipynb\" target=\"_parent\"><img src=\"https://colab.research.google.com/assets/colab-badge.svg\" alt=\"Open In Colab\"/></a>"
      ]
    },
    {
      "cell_type": "code",
      "execution_count": 1,
      "metadata": {
        "colab": {
          "base_uri": "https://localhost:8080/"
        },
        "id": "Y-rrrs9hXqeV",
        "outputId": "1461a170-49d8-4ccd-bdb7-f888cc0dd319"
      },
      "outputs": [
        {
          "output_type": "stream",
          "name": "stdout",
          "text": [
            " | | \n",
            "-----\n",
            " | | \n",
            "-----\n",
            " | | \n",
            "-----\n",
            "Enter your move (row and column): 0 1\n",
            " |X|O\n",
            "-----\n",
            " | | \n",
            "-----\n",
            " | | \n",
            "-----\n",
            "Enter your move (row and column): 1 0\n",
            " |X|O\n",
            "-----\n",
            "X|O| \n",
            "-----\n",
            " | | \n",
            "-----\n",
            "Enter your move (row and column): 1 1\n",
            "Invalid move. Try again.\n",
            " |X|O\n",
            "-----\n",
            "X|O| \n",
            "-----\n",
            " | | \n",
            "-----\n",
            "Enter your move (row and column): 1 2\n",
            " |X|O\n",
            "-----\n",
            "X|O|X\n",
            "-----\n",
            "O| | \n",
            "-----\n",
            "AI wins!\n"
          ]
        }
      ],
      "source": [
        "import random\n",
        "\n",
        "\n",
        "board = [[' ' for _ in range(3)] for _ in range(3)]\n",
        "\n",
        "def print_board():\n",
        "    for row in board:\n",
        "        print('|'.join(row))\n",
        "        print('-' * 5)\n",
        "\n",
        "def check_winner():\n",
        "\n",
        "    for i in range(3):\n",
        "        if board[i][0] == board[i][1] == board[i][2] != ' ':\n",
        "            return board[i][0]\n",
        "        if board[0][i] == board[1][i] == board[2][i] != ' ':\n",
        "            return board[0][i]\n",
        "    if board[0][0] == board[1][1] == board[2][2] != ' ':\n",
        "        return board[0][0]\n",
        "    if board[0][2] == board[1][1] == board[2][0] != ' ':\n",
        "        return board[0][2]\n",
        "    return None\n",
        "\n",
        "def is_full():\n",
        "    return all(cell != ' ' for row in board for cell in row)\n",
        "\n",
        "def find_best_move(player):\n",
        "\n",
        "    for i in range(3):\n",
        "        for j in range(3):\n",
        "            if board[i][j] == ' ':\n",
        "                board[i][j] = player\n",
        "                if check_winner() == player:\n",
        "                    return (i, j)\n",
        "                board[i][j] = ' '\n",
        "\n",
        "    return None\n",
        "\n",
        "def random_move():\n",
        "    empty_cells = [(i, j) for i in range(3) for j in range(3) if board[i][j] == ' ']\n",
        "    return random.choice(empty_cells) if empty_cells else None\n",
        "\n",
        "\n",
        "while True:\n",
        "    print_board()\n",
        "\n",
        "\n",
        "    row, col = map(int, input(\"Enter your move (row and column): \").split())\n",
        "    if board[row][col] == ' ':\n",
        "        board[row][col] = 'X'\n",
        "    else:\n",
        "        print(\"Invalid move. Try again.\")\n",
        "        continue\n",
        "\n",
        "    if check_winner() or is_full():\n",
        "        break\n",
        "\n",
        "   0\n",
        "    ai_move = find_best_move('O')\n",
        "    if ai_move is None:\n",
        "        ai_move = find_best_move('X')\n",
        "    if ai_move is None:\n",
        "        ai_move = random_move()\n",
        "\n",
        "    if ai_move:\n",
        "        board[ai_move[0]][ai_move[1]] = 'O'\n",
        "\n",
        "    if check_winner() or is_full():\n",
        "        break\n",
        "\n",
        "\n",
        "print_board()\n",
        "if check_winner() == 'X':\n",
        "    print(\"You win!\")\n",
        "elif check_winner() == 'O':\n",
        "    print(\"AI wins!\")\n",
        "else:\n",
        "    print(\"It's a draw!\")"
      ]
    }
  ]
}